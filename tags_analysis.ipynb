{
 "cells": [
  {
   "cell_type": "code",
   "execution_count": 2,
   "metadata": {
    "button": false,
    "collapsed": true,
    "deletable": true,
    "new_sheet": false,
    "run_control": {
     "read_only": false
    }
   },
   "outputs": [],
   "source": [
    "import findspark\n",
    "findspark.init(\"/home/sturupu1/spark\")\n",
    "from pyspark.context import SparkContext\n",
    "from pyspark.sql.session import SparkSession\n",
    "from operator import add\n",
    "import math\n",
    "\n",
    "#Creating Spark Context\n",
    "sc = SparkContext.getOrCreate()\n",
    "#Creating Spark Session\n",
    "spark = SparkSession(sc)\n",
    "#Readind data set(csv file),dropping null values and selecting only tabs and views column\n",
    "tags_views = spark.read.csv(\"./Data/USvideos.csv\", inferSchema = True, header = True).dropna().select(\"tags\",\"views\")\n",
    "#Mapping by splitting tags with \"|\" character,\n",
    "def tags_split(x):\n",
    "    tags=x[\"tags\"].split(\"|\")\n",
    "    result=[]\n",
    "    for every in tags:\n",
    "        #Associating view count as counter and applying log on view count because views count will be really large\n",
    "        if not x[\"views\"] or every==None:\n",
    "            continue        \n",
    "        result.append((every.strip(\"\\\"\").lower(),math.log(int(x[\"views\"]))))#Stripping unnecessary characters\n",
    "    return tuple(result)\n",
    "rdd1=tags_views.rdd.flatMap(tags_split).reduceByKey(add)#reduce by similar tags and adding its view count\n",
    "#Top Tags are queried from RDD by Sorting RDD's in descending order of view count\n",
    "toptags=rdd1.takeOrdered(35, key = lambda x: -x[1])\n",
    "df=spark.createDataFrame(toptags)\n",
    "#Writing back to Disk\n",
    "df.repartition(1).write.csv(path=\"/home/sturupu1/spark/workspace/Project_Youtube_Sentiment_Analysis/output/trending.csv\")\n",
    "#Spark session\n",
    "spark.stop()"
   ]
  },
  {
   "cell_type": "code",
   "execution_count": 2,
   "metadata": {
    "button": false,
    "collapsed": false,
    "deletable": true,
    "new_sheet": false,
    "run_control": {
     "read_only": false
    }
   },
   "outputs": [
    {
     "data": {
      "text/html": [
       "<script type='text/javascript' src='https://prod-apnortheast-a.online.tableau.com/javascripts/api/viz_v1.js'></script><div class='tableauPlaceholder' style='width: 1324px; height: 716px;'><object class='tableauViz' width='1324' height='716' style='display:none;'><param name='host_url' value='https%3A%2F%2Fprod-apnortheast-a.online.tableau.com%2F' /> <param name='embed_code_version' value='3' /> <param name='site_root' value='&#47;t&#47;sameeraturupu' /><param name='name' value='Top30tags&#47;Sheet1' /><param name='tabs' value='no' /><param name='toolbar' value='yes' /><param name='showAppBanner' value='false' /></object></div>\n"
      ],
      "text/plain": [
       "<IPython.core.display.HTML object>"
      ]
     },
     "metadata": {},
     "output_type": "display_data"
    }
   ],
   "source": [
    "%%HTML\n",
    "<script type='text/javascript' src='https://prod-apnortheast-a.online.tableau.com/javascripts/api/viz_v1.js'></script><div class='tableauPlaceholder' style='width: 1324px; height: 716px;'><object class='tableauViz' width='1324' height='716' style='display:none;'><param name='host_url' value='https%3A%2F%2Fprod-apnortheast-a.online.tableau.com%2F' /> <param name='embed_code_version' value='3' /> <param name='site_root' value='&#47;t&#47;sameeraturupu' /><param name='name' value='Top30tags&#47;Sheet1' /><param name='tabs' value='no' /><param name='toolbar' value='yes' /><param name='showAppBanner' value='false' /></object></div>"
   ]
  },
  {
   "cell_type": "code",
   "execution_count": null,
   "metadata": {
    "button": false,
    "collapsed": true,
    "deletable": true,
    "new_sheet": false,
    "run_control": {
     "read_only": false
    }
   },
   "outputs": [],
   "source": []
  }
 ],
 "metadata": {
  "kernelspec": {
   "display_name": "Python 3",
   "language": "python",
   "name": "python3"
  },
  "language_info": {
   "codemirror_mode": {
    "name": "ipython",
    "version": 3
   },
   "file_extension": ".py",
   "mimetype": "text/x-python",
   "name": "python",
   "nbconvert_exporter": "python",
   "pygments_lexer": "ipython3",
   "version": "3.5.0"
  }
 },
 "nbformat": 4,
 "nbformat_minor": 4
}
